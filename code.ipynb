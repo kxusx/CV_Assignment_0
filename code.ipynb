{
 "cells": [
  {
   "cell_type": "code",
   "execution_count": 1,
   "metadata": {},
   "outputs": [],
   "source": [
    "import cv2\n",
    "import numpy as np\n",
    "import matplotlib.pyplot as plt\n",
    "import os\n",
    "import shutil"
   ]
  },
  {
   "cell_type": "markdown",
   "metadata": {},
   "source": [
    "# TASK 1 : Video ↔ Images"
   ]
  },
  {
   "cell_type": "code",
   "execution_count": 25,
   "metadata": {},
   "outputs": [],
   "source": [
    "# Convert video to constituent images\n",
    "vid = cv2.VideoCapture('video/sample.mp4')\n",
    "num_frame = 1\n",
    "while True:\n",
    "    ret, frame = vid.read()\n",
    "    if ret:\n",
    "        cv2.imwrite('imgs/task1/frame%d.jpg' % num_frame, frame)\n",
    "        num_frame += 1\n",
    "    else:\n",
    "        break\n",
    "vid.release()"
   ]
  },
  {
   "cell_type": "code",
   "execution_count": 28,
   "metadata": {},
   "outputs": [],
   "source": [
    "# Combine a set of images into a video\n",
    "img_array = []\n",
    "for i in range(1, num_frame):\n",
    "    img = cv2.imread('imgs/task1/frame%d.jpg' % i)\n",
    "    height, width, layers = img.shape\n",
    "    size = (width, height)\n",
    "    img_array.append(img)\n",
    "\n",
    "fourcc = cv2.VideoWriter_fourcc(*'mp4v')\n",
    "fps = 60\n",
    "out = cv2.VideoWriter('video/output60.mp4', fourcc, fps, size)\n",
    "for i in range(len(img_array)):\n",
    "    out.write(img_array[i])\n",
    "out.release()"
   ]
  },
  {
   "cell_type": "markdown",
   "metadata": {},
   "source": [
    "# TASK 2 : Capturing Images"
   ]
  },
  {
   "cell_type": "code",
   "execution_count": 29,
   "metadata": {},
   "outputs": [
    {
     "ename": "",
     "evalue": "",
     "output_type": "error",
     "traceback": [
      "\u001b[1;31mThe Kernel crashed while executing code in the the current cell or a previous cell. Please review the code in the cell(s) to identify a possible cause of the failure. Click <a href='https://aka.ms/vscodeJupyterKernelCrash'>here</a> for more info. View Jupyter <a href='command:jupyter.viewOutput'>log</a> for further details."
     ]
    }
   ],
   "source": [
    "output_folder = \"imgs/task2\"\n",
    "cap = cv2.VideoCapture(0)\n",
    "os.makedirs(output_folder, exist_ok=True)\n",
    "\n",
    "shutil.rmtree(output_folder)\n",
    "os.makedirs(output_folder, exist_ok=True)\n",
    "\n",
    "if not cap.isOpened():\n",
    "    print(\"Error: Could not open webcam.\")\n",
    "    exit()\n",
    "\n",
    "while True:\n",
    "    ret, frame = cap.read()\n",
    "\n",
    "    cv2.imshow('Webcam', frame)\n",
    "\n",
    "    image_filename = os.path.join(output_folder, f\"captured_image_{len(os.listdir(output_folder))}.png\")\n",
    "    cv2.imwrite(image_filename, frame)\n",
    "\n",
    "    if cv2.waitKey(1) & 0xFF == ord('q'):\n",
    "        break\n",
    "\n",
    "cap.release()\n",
    "cv2.destroyAllWindows()"
   ]
  },
  {
   "cell_type": "markdown",
   "metadata": {},
   "source": [
    "# TASK 3 : Chroma Keying"
   ]
  },
  {
   "cell_type": "code",
   "execution_count": 2,
   "metadata": {},
   "outputs": [
    {
     "ename": "",
     "evalue": "",
     "output_type": "error",
     "traceback": [
      "\u001b[1;31mThe Kernel crashed while executing code in the the current cell or a previous cell. Please review the code in the cell(s) to identify a possible cause of the failure. Click <a href='https://aka.ms/vscodeJupyterKernelCrash'>here</a> for more info. View Jupyter <a href='command:jupyter.viewOutput'>log</a> for further details."
     ]
    }
   ],
   "source": [
    "\n",
    "video1 = cv2.VideoCapture('video/green-screen-video.mp4')\n",
    "video2 = cv2.VideoCapture('video/sample.mp4')\n",
    "fourcc = cv2.VideoWriter_fourcc(*'mp4v')\n",
    "out = cv2.VideoWriter('video/task3/output.mp4', fourcc, 30.0, (640, 480))\n",
    "\n",
    "while True:\n",
    "    \n",
    "    ret1, frame1 = video1.read()\n",
    "    ret2, frame2 = video2.read()\n",
    "\n",
    "    \n",
    "    if not ret1 or not ret2:\n",
    "        break\n",
    "\n",
    "    frame1 = cv2.resize(frame1, (640, 480))\n",
    "    frame2 = cv2.resize(frame2, (640, 480))\n",
    "\n",
    "    hsv = cv2.cvtColor(frame1, cv2.COLOR_BGR2HSV)\n",
    "\n",
    "    lower_green = np.array([40, 40, 40])\n",
    "    upper_green = np.array([80, 255, 255])\n",
    "\n",
    "    mask = cv2.inRange(hsv, lower_green, upper_green)\n",
    "\n",
    "    mask_inv = cv2.bitwise_not(mask)\n",
    "\n",
    "    fg = cv2.bitwise_and(frame1, frame1, mask=mask_inv)\n",
    "\n",
    "    bg = cv2.bitwise_and(frame2, frame2, mask=mask)\n",
    "\n",
    "    result = cv2.add(fg, bg)\n",
    "    out.write(result)\n",
    "\n",
    "    cv2.imshow('result', result)\n",
    "\n",
    "    if cv2.waitKey(1) & 0xFF == ord('q'):\n",
    "        break\n",
    "video1.release()\n",
    "video2.release()\n",
    "out.release()\n",
    "\n",
    "cv2.destroyAllWindows()"
   ]
  },
  {
   "cell_type": "code",
   "execution_count": null,
   "metadata": {},
   "outputs": [],
   "source": []
  }
 ],
 "metadata": {
  "kernelspec": {
   "display_name": "Python 3",
   "language": "python",
   "name": "python3"
  },
  "language_info": {
   "codemirror_mode": {
    "name": "ipython",
    "version": 3
   },
   "file_extension": ".py",
   "mimetype": "text/x-python",
   "name": "python",
   "nbconvert_exporter": "python",
   "pygments_lexer": "ipython3",
   "version": "3.11.2"
  }
 },
 "nbformat": 4,
 "nbformat_minor": 2
}
